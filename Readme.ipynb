{
 "cells": [
  {
   "cell_type": "markdown",
   "metadata": {
    "collapsed": true
   },
   "source": [
    "# Promises\n",
    "\n",
    "A Promise is a placeholder for a value which isn't yet known. Julia's Tasks provide everything Promises provide though they are also generators which makes me feel uncomfortable about building abstractions on top of them that treat them as simple values. And RemoteRefs can be viewed as a form of Promise but don't have a nice API for the simple case since they are also intended to enable ongoing communication channels. Some people [really like](http://swannodette.github.io/2013/08/23/make-no-promises/) these sorts of bonus features. They seem to want a sort of swiss army knife for all async programming patterns. But to me it looks a bit like a bartender using a multi-tool to open bottles for the odd time he needs to cut a lemon. Most of the time when you are doing things asynchronously your really wish you were doing it synchronously. Promises are designed allow you to get back to thinking synchronously about things which could happen at "
   ]
  },
  {
   "cell_type": "code",
   "execution_count": 1,
   "metadata": {
    "collapsed": false
   },
   "outputs": [],
   "source": [
    "@require \"Promises\" need Result @defer;"
   ]
  },
  {
   "cell_type": "markdown",
   "metadata": {},
   "source": [
    "If you have an expensive computation which isn't always needed a simple optimisation is to wrap it in a Deferred. This will prevent the computation from being executed until its actually needed."
   ]
  },
  {
   "cell_type": "code",
   "execution_count": 2,
   "metadata": {
    "collapsed": false
   },
   "outputs": [
    {
     "data": {
      "text/plain": [
       "Computation{Any}((anonymous function),:pending,#undef,#undef)"
      ]
     },
     "execution_count": 2,
     "metadata": {},
     "output_type": "execute_result"
    }
   ],
   "source": [
    "@defer JSON.parse(readall(\"dependencies.json\"))"
   ]
  },
  {
   "cell_type": "markdown",
   "metadata": {},
   "source": [
    "Then to unwrap it just call `need` on it"
   ]
  },
  {
   "cell_type": "code",
   "execution_count": 4,
   "metadata": {
    "collapsed": false
   },
   "outputs": [
    {
     "data": {
      "text/plain": [
       "Dict{String,Any} with 1 entry:\n",
       "  \"development\" => [\"jest\"=>\"http://github.com/jkroso/jest/tarball/804af51\"]"
      ]
     },
     "execution_count": 4,
     "metadata": {},
     "output_type": "execute_result"
    }
   ],
   "source": [
    "need(Out[2])"
   ]
  },
  {
   "cell_type": "markdown",
   "metadata": {},
   "source": [
    "Running code asynchronously is sometimes necessary, often a good idea if you want to take advantage of multi-thread machines and always adds complexity to your code unless you have a good way for async code to communicate its result back to the calling thread."
   ]
  }
 ],
 "metadata": {
  "kernelspec": {
   "display_name": "Julia 0.3.9",
   "language": "julia",
   "name": "julia-0.3"
  },
  "language_info": {
   "name": "julia",
   "version": "0.3.9"
  }
 },
 "nbformat": 4,
 "nbformat_minor": 0
}
