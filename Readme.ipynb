{
 "cells": [
  {
   "cell_type": "markdown",
   "metadata": {
    "collapsed": true
   },
   "source": [
    "# Promises\n",
    "\n",
    "A Promise is a placeholder for a value which isn't known yet.\n",
    "\n",
    "Julia's Tasks can be viewed as Promises though because they are also generators you can't build abstractions on top of them that assume they are just simple values. RemoteRefs can also be viewed as a form of Promise but they don't have a nice API for the simple case since they are also intended to enable ongoing communication channels. Some people [really like](http://swannodette.github.io/2013/08/23/make-no-promises/) these sorts of bonus features. I don't."
   ]
  },
  {
   "cell_type": "code",
   "execution_count": 1,
   "metadata": {
    "collapsed": false
   },
   "outputs": [],
   "source": [
    "@require \"github.com/jkroso/Promises.jl\" need @defer @thread;"
   ]
  },
  {
   "cell_type": "markdown",
   "metadata": {},
   "source": [
    "If you have an expensive computation which isn't always needed a simple optimisation is to wrap it in a Deferred. This will prevent the computation from being executed until its actually needed."
   ]
  },
  {
   "cell_type": "code",
   "execution_count": 2,
   "metadata": {
    "collapsed": false
   },
   "outputs": [
    {
     "data": {
      "text/plain": [
       "/Users/jkroso/.julia/kip/github.com/jkroso/Promises.jl/tarball/fd1d516/main.jl.Deferred{Any}((anonymous function),:pending,#undef,#undef)"
      ]
     },
     "execution_count": 2,
     "metadata": {},
     "output_type": "execute_result"
    }
   ],
   "source": [
    "@defer JSON.parse(readall(\"Readme.ipynb\"))[\"metadata\"][\"language_info\"][\"name\"]"
   ]
  },
  {
   "cell_type": "markdown",
   "metadata": {},
   "source": [
    "Then to unwrap it just call `need` on it"
   ]
  },
  {
   "cell_type": "code",
   "execution_count": 3,
   "metadata": {
    "collapsed": false
   },
   "outputs": [
    {
     "data": {
      "text/plain": [
       "\"julia\""
      ]
     },
     "execution_count": 3,
     "metadata": {},
     "output_type": "execute_result"
    }
   ],
   "source": [
    "need(Out[2])"
   ]
  },
  {
   "cell_type": "markdown",
   "metadata": {},
   "source": [
    "In the above example we used a promise to represent the parsed version of a JSON file because we weren't sure if it would actually be used or not. But when it is needed it takes a long time to compute because of the IO operation to read from the file system. In this case we would be better to pass control to another thread while we wait. This is what `@thread` does for us."
   ]
  },
  {
   "cell_type": "code",
   "execution_count": 4,
   "metadata": {
    "collapsed": false
   },
   "outputs": [
    {
     "data": {
      "text/plain": [
       "/Users/jkroso/.julia/kip/github.com/jkroso/Promises.jl/tarball/fd1d516/main.jl.Result{Any}(Condition(Any[]),:evaled,\"julia\",#undef)"
      ]
     },
     "execution_count": 4,
     "metadata": {},
     "output_type": "execute_result"
    }
   ],
   "source": [
    "@thread JSON.parse(readall(\"Readme.ipynb\"))[\"metadata\"][\"language_info\"][\"name\"]"
   ]
  },
  {
   "cell_type": "code",
   "execution_count": 5,
   "metadata": {
    "collapsed": false
   },
   "outputs": [
    {
     "data": {
      "text/plain": [
       "\"julia\""
      ]
     },
     "execution_count": 5,
     "metadata": {},
     "output_type": "execute_result"
    }
   ],
   "source": [
    "need(Out[4])"
   ]
  }
 ],
 "metadata": {
  "kernelspec": {
   "display_name": "Julia 0.4.2",
   "language": "julia",
   "name": "julia-0.4"
  },
  "language_info": {
   "file_extension": ".jl",
   "mimetype": "application/julia",
   "name": "julia",
   "version": "0.4.2"
  }
 },
 "nbformat": 4,
 "nbformat_minor": 0
}
